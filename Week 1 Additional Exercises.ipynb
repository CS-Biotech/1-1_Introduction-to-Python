{
 "cells": [
  {
   "cell_type": "markdown",
   "id": "959077ff",
   "metadata": {},
   "source": [
    "# Week 1: Introduction to Python programming for biology students 🧪\n",
    "# Additional Exercises\n",
    "This week introduced you to Python programming and basic operations; you have successfully modified and added a record for Ahmed, a patient in the study! \n",
    "\n",
    "As you progress in these modules, the concepts presented may get increasingly complex. We will step you through each new concept slowly, but it is likely that you will find yourself stuck on an exercise at some point- even people who have been programming for decades will often encounter something they do not know! Thus, it is important to learn how to fill knowledge gaps efficiently while developing code. \n",
    "\n",
    "We would like to introduce two resources that every data scientist and developer should be familiar with:\n",
    "1. Documentation\n",
    "2. Stack Overflow\n",
    "\n",
    "## Documentation\n",
    "Have you ever been stuck in the middle of your sentence because you can't think of the right word? You know what you're trying to say in your head, but you're not quite sure how to say it. Or, perhaps you're having a conversation with someone and some of the words they used were completely new to you. In these cases, you would try searching for the word in a dictionary, which tells you the word, its spelling and meaning, what part of speech it belongs to, and examples of how it can be used in context.\n",
    "\n",
    "Like dictionaries help us speak a language the way it was intended, documentation helps programmers use programming languages, libraries, and software the way it was intended to be used. Documentation of entire languages and libraries like Python tend to be vast; they serve as references rather than manuals (you wouldn't sit down and read a dictionary page by page either!). When learning how to use a new language or technology, referencing the documentation as you develop your code is common practice. \n",
    "\n",
    "Recall that in this week's tutorial, we learned about if statements with a condition. We showed an example of how we can filter for patients between the ages 40 and 95, like below:"
   ]
  },
  {
   "cell_type": "code",
   "execution_count": null,
   "id": "21b48b35",
   "metadata": {},
   "outputs": [],
   "source": [
    "patient1 = 35\n",
    "patient2 = 40\n",
    "patient3 = 67\n",
    "patient4 = 100\n",
    "\n",
    "def handle_patient(patient_age):\n",
    "    if patient_age >= 40 and patient_age < 95:\n",
    "        print(\"Patient age: \", patient_age, \", Include this patient\")\n",
    "    else:\n",
    "        print(\"Patient age: \", patient_age, \", Exclude this patient\")\n",
    "    \n",
    "handle_patient(patient1)\n",
    "handle_patient(patient2)\n",
    "handle_patient(patient3)\n",
    "handle_patient(patient4)"
   ]
  },
  {
   "cell_type": "markdown",
   "id": "adb5588c",
   "metadata": {},
   "source": [
    "**Q1.** How can we modify the code to not use the **and** logical operator? Is it possible? That is, is there an equivalent way to write this line of code:\n",
    "```if patient_age >= 40 and patient_age < 95:```\n",
    "\n",
    "The Python programming language has very extensive, well-organized documentation. Take a moment to read the section on comparisons in Python: https://docs.python.org/3.9/reference/expressions.html#comparisons\n",
    "\n",
    "Give it a try, referencing the Python documentation above as you need. \n",
    "\n",
    " <span style=\"background-color: #FFD700\">**Complete the code below.**</span>"
   ]
  },
  {
   "cell_type": "code",
   "execution_count": null,
   "id": "ef2e8b38",
   "metadata": {},
   "outputs": [],
   "source": [
    "patient1 = 35\n",
    "patient2 = 40\n",
    "patient3 = 67\n",
    "patient4 = 100\n",
    "\n",
    "def handle_patient(patient_age):\n",
    "    if # TODO: Complete this line\n",
    "        print(\"Patient age: \", patient_age, \", Include this patient\")\n",
    "    else:\n",
    "        print(\"Patient age: \", patient_age, \", Exclude this patient\")\n",
    "    \n",
    "handle_patient(patient1)\n",
    "handle_patient(patient2)\n",
    "handle_patient(patient3)\n",
    "handle_patient(patient4)"
   ]
  },
  {
   "cell_type": "markdown",
   "id": "e3fd5bb5",
   "metadata": {},
   "source": [
    "Documentation can also help us remember certain \"rules\" of Python. Remember from the pre-module that there are a few rules for naming variables:\n",
    "\n",
    "1. must not start with a digit (0-9)\n",
    "2. must not be a keyword\n",
    "\n",
    "*Keywords are reserved words in Python that are intended to do special things. Some examples are \"for\", \"in\", and \"continue\". There are many more keywords, so don't worry about them for now. You will learn some of them as we go through these modules.*\n",
    "\n",
    "**Q2.** Say you are starting to write a program to count the number of patients with anaemia in the dataset. Which of the following variable declarations would be valid (conforms to the naming rules)? Reference https://docs.python.org/3.9/reference/lexical_analysis.html#identifiers.\n",
    "\n",
    "\n",
    "\n",
    "1. Num_anaemia = 0\\\n",
    "   Num_patients = 302\\\n",
    "   None = False\n",
    "\n",
    "\n",
    "2. num_anaemia = 0\\\n",
    "   yield = 0\\\n",
    "   num_patients = 302\n",
    "   \n",
    "   \n",
    "3. numAnaemia = 0\\\n",
    "   numPatients = 302\\\n",
    "   i = 0"
   ]
  },
  {
   "cell_type": "markdown",
   "id": "36962e38",
   "metadata": {},
   "source": [
    "<span style=\"background-color: #FFD700\">**Write your answer (1,2, or 3) here**</span>"
   ]
  },
  {
   "cell_type": "markdown",
   "id": "0c5482a5",
   "metadata": {},
   "source": [
    "A quick aside about variable naming: although a variable name like Num_anaemia is technically valid, it does not follow typical programming convention. Programmers usually follow one of two popular variable naming conventions, **snake case** and **camel case**. This is because the way we name variables have an impact on the readability of our code, which in turn impacts productivity and understanding; these two naming conventions have been widely adopted for their ease of use and readability. They look like this:\n",
    "\n",
    "<span style=\"background-color: #AFEEEE\">snake_case</span>: all letters are lowercase, and there is an underscore between each word.\n",
    "\n",
    "<span style=\"background-color: #AFEEEE\">camelCase</span>: each word begins with an uppercase letter, except for the first letter. \n",
    "\n",
    "You are encouraged to be consistent in whichever convention you use in a single program/notebook, so that the reader (other data scientists, programmers, or yourself) can easily read the code. "
   ]
  },
  {
   "cell_type": "markdown",
   "id": "11634c8b",
   "metadata": {},
   "source": [
    "## Stack Overflow\n",
    "If you cannot find the answer on any official documentation, someone on Stack Overflow has probably encountered the same issue as you, 5 years ago, on the other side of the world. Stack Overflow is an online community where developers can seek and give technical help, to and from other developers. Because of its large user base worldwide, many questions have been posted and answered by experienced developers since its conception, making it a great resource for us to seek when we encounter similar issues of our own. \n",
    "\n",
    "Because it is an open forum (think: Reddit for developers), it can be somewhat chaotic to navigate. You will likely see long forums filled with technical jargon from different areas that you will not understand. People of all different industries and experience levels may engage with the content on this site. Do not be discouraged if you cannot understand all parts of a discussion on Stack Overflow! Instead, focus on verifying if the discussion has some relevance to the kind of problem you are trying to solve, and look for the parts (code usage examples, code/error explanations) that you can modify to apply to your own code. You may not find a post that describes the exact same problem as yours, but you can take inspiration from similar problems. \n",
    "\n",
    "How do you know what to search on Stack Overflow? Ask yourself these questions when you encounter an issue while developing your own code:\n",
    "\n",
    "1. What am I trying to do through my code? \n",
    "2. Is this a valid approach?\n",
    "3. What am I missing in order to complete my code?\n",
    "\n",
    "\n",
    "On the other hand, if you are stuck because you got an error after running your code, you can try searching for the error message to understand why that kind of error is raised. Run the code cells below and search the error message on Stack Overflow: https://stackoverflow.com/ \n",
    "(Note: you can also search on Google/other search engines.)"
   ]
  },
  {
   "cell_type": "code",
   "execution_count": null,
   "id": "3ad861ab",
   "metadata": {},
   "outputs": [],
   "source": [
    "import math\n",
    "\n",
    "print(math.exp(1000))"
   ]
  },
  {
   "cell_type": "markdown",
   "id": "f25a53a0",
   "metadata": {},
   "source": [
    "\n",
    "**Q3.** Look up the exp() function in Python docs: https://docs.python.org/3/library/math.html. What does it do? \n",
    "\n",
    "<span style=\"background-color: #FFD700\">**Write your answer here.**</span>\n",
    "\n",
    "**Q4:** Search the error on Stack Overflow. Describe the reason for the error?\n",
    "\n",
    "<span style=\"background-color: #FFD700\">**Write your answer here.**</span>\n"
   ]
  },
  {
   "cell_type": "markdown",
   "id": "fd3da377",
   "metadata": {},
   "source": [
    "## Summary\n",
    "\n",
    "Today we learned how to:\n",
    "* reference Python documentation, an official channel for its intended usage\n",
    "* reference Stack Overflow, a community forum for developers\n",
    "\n",
    "Do's and Don'ts of Stack Overflow:\n",
    "\n",
    "Do:\n",
    "* verify if a post is relevant to your problem\n",
    "* read explanations of concepts to enhance your understanding\n",
    "* draw inspiration from code usage examples and snippets\n",
    "\n",
    "Don't:\n",
    "* copy and paste code without understanding how it works\n",
    "* spend hours trying to understand a particular post in a different domain\n",
    "* search for something without trying it yourself first\n",
    "\n",
    "Next week, we will build upon the basic Python knowledge from this week to unlock more functionality in our code. Remember, if you get stuck, try solving it yourself first and then reference Python/Stack Overflow/Google."
   ]
  }
 ],
 "metadata": {
  "kernelspec": {
   "display_name": "Python 3 (ipykernel)",
   "language": "python",
   "name": "python3"
  },
  "language_info": {
   "codemirror_mode": {
    "name": "ipython",
    "version": 3
   },
   "file_extension": ".py",
   "mimetype": "text/x-python",
   "name": "python",
   "nbconvert_exporter": "python",
   "pygments_lexer": "ipython3",
   "version": "3.10.8"
  }
 },
 "nbformat": 4,
 "nbformat_minor": 5
}
