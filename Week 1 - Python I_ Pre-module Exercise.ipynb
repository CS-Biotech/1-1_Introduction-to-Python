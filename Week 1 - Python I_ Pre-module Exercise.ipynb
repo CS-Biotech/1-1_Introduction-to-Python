{
 "cells": [
  {
   "cell_type": "markdown",
   "id": "7aba8c35",
   "metadata": {
    "id": "7aba8c35"
   },
   "source": [
    "# Week 1: Introduction to Python programming for biology students 🧪\n",
    "\n",
    "Welcome! This is the first of many modules in this course designed to help you learn various programming tools for biologists. Over the course of this semester, you will learn the following:\n",
    "1. Python programming\n",
    "2. Data science with Pandas\n",
    "3. Machine Learning fundamentals\n",
    "\n",
    "The goal of learning programming as a biologist is not to become an expert software developer (although you certainly can!), but to *understand how to use programming as a tool* to:\n",
    "1. automate and accelerate computation\n",
    "2. organize and visualize data\n",
    "3. employ statistical/machine learning models to reach conclusions about datasets\n",
    "\n",
    "...all within a scientific context. Whether you will work in a research lab or a corporate setting, these skills will complement your biology background. We hope you find these modules helpful as you continue your undergraduate studies.\n",
    "\n"
   ]
  },
  {
   "cell_type": "markdown",
   "id": "123df2dd",
   "metadata": {
    "id": "123df2dd"
   },
   "source": [
    "# Premodule: Jupyter and Python Basics\n",
    "This week's focus is on how to use the Python programming language. In this first part, you will learn about:\n",
    "1. Jupyter Notebooks\n",
    "2. Variables and datatypes in Python\n",
    "\n",
    "We recommend spending some time to really understand the first few weeks of content, as subsequent modules will build upon fundamental Python skills. We highly encourage you to look up the documentation for certain functions or do quick Google searches for additional help as we go along. The goal here is not to know every feature and function of Python by heart, but to be able to find useful information and apply it to the problem you are trying to solve."
   ]
  },
  {
   "cell_type": "markdown",
   "id": "f966087e",
   "metadata": {
    "id": "f966087e"
   },
   "source": [
    "## Jupyter Notebooks 📓\n",
    "\n",
    "Before we get into learning Python, let's explore the page you are seeing right now, a Jupyter Notebook.\n",
    "<span style=\"background-color: #AFEEEE\">**Jupyter Notebooks**</span> **are a document that blends interactive computation and their outputs, explanatory text, mathematics, images, and more.** It is widely used in the scientific computing community and research labs."
   ]
  },
  {
   "cell_type": "markdown",
   "id": "132e00f0",
   "metadata": {
    "id": "132e00f0"
   },
   "source": [
    "\n",
    "\n",
    "### Cells\n",
    "This rectangular block is called a **cell**. There are two types of cells in Jupyter Notebooks:\n",
    "\n",
    "<span style=\"background-color: #AFEEEE\">**Text cell**</span>: an editable cell where you can write text (and insert other elements like images) in Markdown. (See Further Reading at the bottom of this notebook)\n",
    "<span style=\"background-color: #AFEEEE\">**Code cell**</span>: an editable cell where you can write and execute code.\n",
    "\n",
    "#### Text cell\n",
    "This one contains Markdown*, which is a way of describing text with formatting. If you click on this text, you will see that the tab for this this rectangular box is highlighted <span style=\"color:green\">green</span> and you are able to edit the contents. This is editor mode, which you'll need to be in to edit code or Markdown.\n",
    "\n",
    "If you click anywhere outside this editor area, the tab will turn <span style=\"color:blue\">blue</span>. This is command mode; you should be in this mode to run cells.\n",
    "You can switch between the two modes by pressing *Enter* for edit mode and *Esc* for command mode.\n",
    "\n",
    "#### Code cell\n",
    "Notebooks can also have code cells. Jupyter Notebooks allows you to run the current selected code cell by clicking on \"Run\" (with a sideways triangle icon) on the top toolbar or with *shift+Enter*. You can find more run settings under \"Cell\".\n",
    "\n",
    "### Important ❗\n",
    "As you follow along in these modules, please read each text cell and follow the directions to complete/run the code cells that follow before moving onto the next portion. Skipping sections may cause issues later on, as some cells depend on previous cells. You will be writing code directly into code cells marked with a \"TODO:\" or something similar, and sometimes providing answers in text format (in markdown cells).\n",
    "\n",
    "*For an overview of Jupyter Notebooks, go to `Help -> Notebook Tour` and follow the prompts.*"
   ]
  },
  {
   "cell_type": "markdown",
   "id": "c193b7a5",
   "metadata": {
    "id": "c193b7a5"
   },
   "source": [
    "### Running cells\n",
    "\n",
    "Below is an example of a code cell to perform basic arithmetic operations and print the result in Python. Don't worry about understanding the code yet, but we will run some cells to get an idea of how this works.\n",
    "\n",
    "\n",
    "<span style=\"background-color: #FFD700\">**Run the cell below by selecting it, then clicking \"Run\" in the taskbar OR using the shortcut *shift+Enter*.**</span>"
   ]
  },
  {
   "cell_type": "code",
   "execution_count": null,
   "id": "7c492672",
   "metadata": {
    "colab": {
     "base_uri": "https://localhost:8080/"
    },
    "executionInfo": {
     "elapsed": 155,
     "status": "ok",
     "timestamp": 1732637347798,
     "user": {
      "displayName": "Reuben Philip",
      "userId": "18267058973725491745"
     },
     "user_tz": 300
    },
    "id": "7c492672",
    "outputId": "bf7cee92-bcf8-4f56-9049-05c36b27e907"
   },
   "outputs": [],
   "source": [
    "x = 5\n",
    "y = 10\n",
    "z = x + y\n",
    "z"
   ]
  },
  {
   "cell_type": "markdown",
   "id": "33d2f086",
   "metadata": {
    "id": "33d2f086"
   },
   "source": [
    "You should see a number in square brackets appear to the left of the cell. This is the execution number. The notebook tracks which cells you have ran so far, because execution order matters (discussed later).\n",
    "\n",
    "You also should see \"15\" appear below the code cell you just ran. This is the result or *output* of running the code. The result we see after execution is from the last line of the code block. We see whatever **z** represents, which is 15.\n",
    "Note how the code and the results of running the code are bundled together (the result is directly under the code block).\n",
    "\n",
    "<span style=\"background-color: #FFD700\">**Run the cell below**</span>"
   ]
  },
  {
   "cell_type": "code",
   "execution_count": null,
   "id": "be57d0c8",
   "metadata": {
    "colab": {
     "base_uri": "https://localhost:8080/"
    },
    "executionInfo": {
     "elapsed": 177,
     "status": "ok",
     "timestamp": 1732637357932,
     "user": {
      "displayName": "Reuben Philip",
      "userId": "18267058973725491745"
     },
     "user_tz": 300
    },
    "id": "be57d0c8",
    "outputId": "73254867-d811-4826-a27d-d665dadd56ec"
   },
   "outputs": [],
   "source": [
    "print(x)\n",
    "print(y)\n",
    "z"
   ]
  },
  {
   "cell_type": "markdown",
   "id": "1401a712",
   "metadata": {
    "id": "1401a712"
   },
   "source": [
    "There are three values in the output now. Outputs will be displayed in the order that the lines of code are executed, from top to bottom. The first two outputs, 5 and 10, are outputs from the first two lines of code. The last output is the value of z, as we saw previously."
   ]
  },
  {
   "cell_type": "markdown",
   "id": "267c988d",
   "metadata": {
    "id": "267c988d"
   },
   "source": [
    "### Comments\n",
    "Comments help the reader to understand the intention behind a code block or a specific line of code. This helps not only other programmers, but you as the author as you develop your code. Comments are not executed but will be visible in the code file.\n",
    "\n",
    "You can start a **line comment** the hash symbol (#). Everything written on the same line after this symbol will be part of the comment.\n",
    "\n",
    "A useful keyboard shortcut to comment/uncomment a line of code is **Ctrl + /** (Windows) or **Cmd + /** (Mac). You can <span style=\"background-color: #FFD700\">**try out this shortcut on the code cell below**</span>."
   ]
  },
  {
   "cell_type": "code",
   "execution_count": null,
   "id": "e1785cc5",
   "metadata": {
    "colab": {
     "base_uri": "https://localhost:8080/"
    },
    "executionInfo": {
     "elapsed": 147,
     "status": "ok",
     "timestamp": 1732637388320,
     "user": {
      "displayName": "Reuben Philip",
      "userId": "18267058973725491745"
     },
     "user_tz": 300
    },
    "id": "e1785cc5",
    "outputId": "c77bc966-02b6-4235-f603-ad66d5afbabb"
   },
   "outputs": [],
   "source": [
    "# This is a line comment\n",
    "# Whatever you write AFTER the # sign on this line will not get executed.\n",
    "some_code = 10  # Notice that code written before the # sign is NOT COMMENTED and WILL be executed.\n",
    "some_code"
   ]
  },
  {
   "cell_type": "markdown",
   "id": "0421102e",
   "metadata": {
    "id": "0421102e"
   },
   "source": [
    "Now that we know how this notebook works, let's hop into our first topic in Python."
   ]
  },
  {
   "cell_type": "markdown",
   "id": "faeb2ca9",
   "metadata": {
    "id": "faeb2ca9"
   },
   "source": [
    "## Python Basics: Variables and datatypes 👾"
   ]
  },
  {
   "cell_type": "markdown",
   "id": "9572aaac",
   "metadata": {
    "id": "9572aaac"
   },
   "source": [
    "<span style=\"background-color: #AFEEEE\">**Variables**</span> are entities with a <span style=\"background-color: #AFEEEE\">**value**</span>, which is of a <span style=\"background-color: #AFEEEE\">**data type**</span> (explained later in this notebook). We declare variables with a unique name of our choosing in our program. Declaring a variable in Python includes these simple steps:\n",
    "1. We write a new, unique variable name (this is the left hand side)\n",
    "2. We write a ```=``` sign\n",
    "3. We write some value (this is the right hand side)\n",
    "This assigns the value on the right hand side of the ```=``` sign to the variable name on the left hand side. For example, in this line of code:\n",
    "\n",
    "```\n",
    "my_variable = 3\n",
    "```\n",
    "We have declared a variable called ```my_variable```, and it it has a value of 3.\n",
    "\n",
    "A few rules about naming variables:\n",
    "1. must not start with a digit (0-9)\n",
    "2. must not be a keyword\n",
    "3. variable names are case-sensitive\n",
    "4. no spaces and no special characters such as a #\n",
    "\n",
    "Keywords are reserved words in Python that are intended to do special things. Some examples are \"for\", \"in\", and \"continue\". There are many more keywords, so don't worry about them for now. You will learn some of them as we go through these modules.\n",
    "\n",
    "In python, we must assign a value to the variable when it is declared. **=** is the assignment operator. On the left of the operator is the variable we wish to assign the value to. On the right of the operator is the actual value we wish to assign. Try running the cells below.\n",
    "\n",
    "<span style=\"background-color: #FFD700\">**Run the 3 code cells below and see what happens.**</span>"
   ]
  },
  {
   "cell_type": "code",
   "execution_count": null,
   "id": "e82880df",
   "metadata": {
    "colab": {
     "base_uri": "https://localhost:8080/",
     "height": 166
    },
    "executionInfo": {
     "elapsed": 138,
     "status": "error",
     "timestamp": 1732637415600,
     "user": {
      "displayName": "Reuben Philip",
      "userId": "18267058973725491745"
     },
     "user_tz": 300
    },
    "id": "e82880df",
    "outputId": "4eb072d2-12d9-4a02-8ce0-905c72571429"
   },
   "outputs": [],
   "source": [
    "# Declaring a variable without a value [X]\n",
    "var                  # var is not defined"
   ]
  },
  {
   "cell_type": "code",
   "execution_count": null,
   "id": "604da880",
   "metadata": {
    "colab": {
     "base_uri": "https://localhost:8080/"
    },
    "executionInfo": {
     "elapsed": 131,
     "status": "ok",
     "timestamp": 1732637416194,
     "user": {
      "displayName": "Reuben Philip",
      "userId": "18267058973725491745"
     },
     "user_tz": 300
    },
    "id": "604da880",
    "outputId": "00ebbd19-0265-42d1-ca43-ef59e3c38f67"
   },
   "outputs": [],
   "source": [
    "# Declaring a new variable\n",
    "var = 10\n",
    "# Declaring another variable; note the uppercase V\n",
    "Var = 5\n",
    "print(f\"var: {var}, Var: {Var}\")"
   ]
  },
  {
   "cell_type": "markdown",
   "id": "ab86bd06",
   "metadata": {
    "id": "ab86bd06"
   },
   "source": [
    "Only the last cell ran without errors. Why?\n",
    "\n",
    "The first cell failed with an error that says \"name 'var' is not defined\". This means that you tried to declare (i.e. create) a variable without specifying what the variable holds. While this may be possible in other programming langauges, you must **define** your variable by **assigning** it a value.\n",
    "\n",
    "Some data types are summarized below:\n",
    "\n",
    "| Data type |      Example       |\n",
    "| :---------| :------------------|\n",
    "| int       | 0, -1, 99, 12345   |\n",
    "| float     | 1.1, -0.9, 123.4   |\n",
    "| string    | \"hello\", \"h\", \"i\"  |\n",
    "| boolean   | False (0), True (1)|\n",
    "\n",
    "\n",
    "Other data types (revisited later):\n",
    "* list\n",
    "* tuple\n",
    "* set\n",
    "* dict"
   ]
  },
  {
   "cell_type": "markdown",
   "id": "0ae11e1c",
   "metadata": {
    "id": "0ae11e1c"
   },
   "source": [
    "### Int\n",
    "As mentioned before, int stands for **integer**.\n",
    "\n",
    "### Float\n",
    "Float represents fractional (decimal) values.\n",
    "\n",
    "### String\n",
    "A string is comprised of one or more characters. Characters can be alphanumerical (a-z and 0-9), symbols (@,#,$), spaces, etc. This datatype can represent basically any letter, word, or phrase you want. The string must be wrapped in quotation marks.\n",
    "\n",
    "### Boolean\n",
    "A boolean is either one of two values: True or False. This datatype is used to evaluate conditions, which we will cover in the next module. If you ask a question such as, Is val1 equal to val2?, the answer can only be either True or False. We can assign this boolean value to a variable as well."
   ]
  },
  {
   "cell_type": "code",
   "execution_count": null,
   "id": "aa83e1df",
   "metadata": {
    "colab": {
     "base_uri": "https://localhost:8080/"
    },
    "executionInfo": {
     "elapsed": 152,
     "status": "ok",
     "timestamp": 1732637811808,
     "user": {
      "displayName": "Reuben Philip",
      "userId": "18267058973725491745"
     },
     "user_tz": 300
    },
    "id": "aa83e1df",
    "outputId": "43688911-2174-4aac-8c6a-8ef5f789a59e"
   },
   "outputs": [],
   "source": [
    "is_true = True\n",
    "is_false = False\n",
    "val1 = 1\n",
    "val2 = 2\n",
    "\n",
    "print(f\"Value of the boolean variable is_true: {is_true}\")\n",
    "print(f\"Value of the boolean variable is_false: {is_false}\")\n",
    "print(f\"Value of the integer variable val1: {val1}\")\n",
    "print(f\"Value of the integer variable val2: {val2}\")\n",
    "print(f\"Is val1 equal to val2? {val1 == val2}\")\n"
   ]
  },
  {
   "cell_type": "markdown",
   "id": "f0c8e9b8",
   "metadata": {
    "id": "f0c8e9b8"
   },
   "source": [
    "### print()\n",
    "So far we have been printing some stuff in the code cells to demonstrate how variables work, but we haven't explained how this done. Printing to the output is possible using Python's built-in ```print()``` function. Printing output can be helpful for checking the state of our program (values of certain variables at a point in time) as we write our code, so that we can see results and spotting errors in our code if we see something we don't expect.\n",
    "\n",
    "To use this function, simply put the message you want to print as a string inside the parentheses."
   ]
  },
  {
   "cell_type": "code",
   "execution_count": null,
   "id": "341bc1a5",
   "metadata": {
    "id": "341bc1a5"
   },
   "outputs": [],
   "source": [
    "print(\"Hello World!\")"
   ]
  },
  {
   "cell_type": "markdown",
   "id": "796efa71",
   "metadata": {
    "id": "796efa71"
   },
   "source": [
    "We can also print the values of variables:"
   ]
  },
  {
   "cell_type": "code",
   "execution_count": null,
   "id": "21ff7384",
   "metadata": {
    "id": "21ff7384"
   },
   "outputs": [],
   "source": [
    "greeting = \"Hello World!\"\n",
    "print(greeting)"
   ]
  },
  {
   "cell_type": "markdown",
   "id": "ac5f6b2e",
   "metadata": {
    "id": "ac5f6b2e"
   },
   "source": [
    "We can print strings and variables together in one line by separating them with commas."
   ]
  },
  {
   "cell_type": "code",
   "execution_count": null,
   "id": "614296e5",
   "metadata": {
    "id": "614296e5"
   },
   "outputs": [],
   "source": [
    "print(greeting, \"My name is Sophie!\")"
   ]
  },
  {
   "cell_type": "markdown",
   "id": "efef9a5a",
   "metadata": {
    "id": "efef9a5a"
   },
   "source": [
    "Sometimes you will see, in the code given to you, the following format:"
   ]
  },
  {
   "cell_type": "code",
   "execution_count": null,
   "id": "824d2524",
   "metadata": {
    "id": "824d2524"
   },
   "outputs": [],
   "source": [
    "print(f\"{greeting} My name is Sophie!\")"
   ]
  },
  {
   "cell_type": "markdown",
   "id": "224515ec",
   "metadata": {
    "id": "224515ec"
   },
   "source": [
    "The ```f``` in front of the opening quotation marks inside the print statement indicates the print statement is using a special formatting. It is just another way to print strings and variables together. Feel free to use either method that you find easier. (See Further Reading for more on input/ouput formatting.)"
   ]
  },
  {
   "cell_type": "markdown",
   "id": "07b53886",
   "metadata": {
    "id": "07b53886"
   },
   "source": [
    "Now it's your turn! Let's write your first line of code to execute. Below, you will write a string that says: \"Hello World! My name is _____\" with your own name in the space. You should assign the string to the variable ```message```, where it says ```# TODO: COMPLETE THIS LINE```. Be sure to write your code after the ```=``` sign but before the comment (better yet, you can remove the comment but we would advise you to keep it there until it's clear to you which part of the code you are supposed to complete).\n",
    "\n",
    "<span style=\"background-color: #FFD700\">**Complete the code in the cell below and run it**</span>"
   ]
  },
  {
   "cell_type": "code",
   "execution_count": null,
   "id": "5ec2e541",
   "metadata": {
    "id": "5ec2e541"
   },
   "outputs": [],
   "source": [
    "\"\"\"\n",
    "Write a string that says:\n",
    "\n",
    "Hello World! My name is _(name)_\n",
    "\n",
    "Replace the space with your name\n",
    "and assign the string to message.\n",
    "\"\"\"\n",
    "message = # TODO: COMPLETE THIS LINE\n",
    "print(message)"
   ]
  },
  {
   "cell_type": "markdown",
   "id": "588c15ec",
   "metadata": {
    "id": "588c15ec"
   },
   "source": [
    "### Cell execution order\n",
    "Variables persist throughout the notebook. Recall that in an earlier example, we added variables x and y together and assigned the result to z. Even though x, y, and z were assigned in a previous cell, we can access and reassign (overwrite) them in subsequent cells. Then, the effect of that action will be reflected when you run/re-run a cell with that variable anywhere in the notebook. You can see the execution order by referencing the number in square brackets to the left of each cell (if there is no number, that cell hasn't been executed yet). Typically notebooks are intended to be executed top to bottom.\n",
    "\n",
    "For example, run CELL 1 below to see what the value of z is currently. Then, if you reassign variable z in CELL 2 and re-run CELL 1 above it, you will see that z is now the new reassigned value."
   ]
  },
  {
   "cell_type": "code",
   "execution_count": null,
   "id": "2b8ad1ad",
   "metadata": {
    "colab": {
     "base_uri": "https://localhost:8080/"
    },
    "executionInfo": {
     "elapsed": 179,
     "status": "ok",
     "timestamp": 1732637561743,
     "user": {
      "displayName": "Reuben Philip",
      "userId": "18267058973725491745"
     },
     "user_tz": 300
    },
    "id": "2b8ad1ad",
    "outputId": "70802747-2db1-4d4c-92d0-ba247128d1ab"
   },
   "outputs": [],
   "source": [
    "# CELL 1\n",
    "print(z)"
   ]
  },
  {
   "cell_type": "code",
   "execution_count": null,
   "id": "c35a0fdf",
   "metadata": {
    "colab": {
     "base_uri": "https://localhost:8080/"
    },
    "executionInfo": {
     "elapsed": 144,
     "status": "ok",
     "timestamp": 1732637563238,
     "user": {
      "displayName": "Reuben Philip",
      "userId": "18267058973725491745"
     },
     "user_tz": 300
    },
    "id": "c35a0fdf",
    "outputId": "bfad8c7a-2b21-48ff-97a9-2c488a4701f8"
   },
   "outputs": [],
   "source": [
    "# CELL 2\n",
    "z = 20\n",
    "z\n",
    "# after running this cell, try running the cell above that says print(z). it should output 20 now instead of 15."
   ]
  },
  {
   "cell_type": "markdown",
   "id": "e0f223d2",
   "metadata": {
    "id": "e0f223d2"
   },
   "source": [
    "The takeaway: do not confuse the *visual order* of notebook cells with the *execution order*. CELL 1 comes before CELL 2 in the notebook, but by running it again you will see the execution number of CELL 1 is now higher than that of CELL 2.\n",
    "\n",
    "To avoid confusion, you should strive to keep your notebook organized linearly so that execution follows visual order from top to bottom. You should also be wary of accidentally running the same cell repeatedly, as this could have undesired results (think about a code cell that adds 1 to a variable. If you ran this twice, you would actually be adding 2). You can go to Cell > Run All to run all cells in the notebook from top to bottom."
   ]
  },
  {
   "cell_type": "markdown",
   "id": "7e7ffc34",
   "metadata": {},
   "source": [
    "## Graded Exercise"
   ]
  },
  {
   "cell_type": "markdown",
   "id": "WGroqF-xIylC",
   "metadata": {
    "id": "WGroqF-xIylC"
   },
   "source": [
    "**GQ: In the final cell below, fill in the blank with the final value of my_var, assuming all cells are executed in order.**"
   ]
  },
  {
   "cell_type": "code",
   "execution_count": null,
   "id": "Z9mbMbMrIx8B",
   "metadata": {
    "id": "Z9mbMbMrIx8B"
   },
   "outputs": [],
   "source": [
    "my_var = 10\n",
    "\n",
    "my_var = (my_var + 5) / 2\n"
   ]
  },
  {
   "cell_type": "code",
   "execution_count": null,
   "id": "ZRNr7AgrJcjH",
   "metadata": {
    "id": "ZRNr7AgrJcjH"
   },
   "outputs": [],
   "source": [
    "my_var = 20"
   ]
  },
  {
   "cell_type": "code",
   "execution_count": null,
   "id": "N1rKklXFJn2u",
   "metadata": {
    "id": "N1rKklXFJn2u"
   },
   "outputs": [],
   "source": [
    "# print out the value of my_var\n",
    "print(___)"
   ]
  }
 ],
 "metadata": {
  "colab": {
   "provenance": [],
   "toc_visible": true
  },
  "kernelspec": {
   "display_name": "Python 3 (ipykernel)",
   "language": "python",
   "name": "python3"
  },
  "language_info": {
   "codemirror_mode": {
    "name": "ipython",
    "version": 3
   },
   "file_extension": ".py",
   "mimetype": "text/x-python",
   "name": "python",
   "nbconvert_exporter": "python",
   "pygments_lexer": "ipython3",
   "version": "3.11.5"
  }
 },
 "nbformat": 4,
 "nbformat_minor": 5
}
